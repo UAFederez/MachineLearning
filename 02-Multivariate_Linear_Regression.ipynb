{
 "cells": [
  {
   "cell_type": "markdown",
   "id": "cebb0966",
   "metadata": {},
   "source": [
    "# Multivariate Linear Regression\n",
    "\n",
    "Consider a dataset with more potentially useful features which can be used for prediction as shown below,\n",
    "\n",
    "| Feature 1 $$x_1$$ | Feature 2 $$x_2$$ | Feature 3 $$x_3$$ | Feature 4 $$x_4$$ | Target Variable $$y$$ |\n",
    "|---|---|---|---|---|\n",
    "|2104|5|1|45|460|\n",
    "|1416|3|2|40|232|\n",
    "|1534|3|2|30|315|\n",
    "|852|2|1|36|178|\n",
    "|$$\\ldots$$|$$\\ldots$$|$$\\ldots$$|$$\\ldots$$|$$\\ldots$$|\n",
    "\n",
    "This can now represent a multivariate linear regression problem, where $x^{(i)}\\in\\mathbb{R}^n$, for $n$ features with $i\\in[1,\\ldots,m]$. In this particular case, $n=4$.\n",
    "\n",
    "The $j$-th input feature, where $j\\in[1,\\ldots,n]$. for the $i$-th training example, where $i\\in[1,\\ldots,m]$, shall be denoted as $x_j^{(i)}$\n",
    "\n",
    "The model for linear regression can now be expressed as,\n",
    "$$\n",
    "f(x^{(i)})=w_1x_1^{(i)}+w_2x_2^{(i)}+\\dots+w_jx_j^{(i)}+b\n",
    "$$\n",
    "\n",
    "A more compact notation uses vectors to represent $w\\in\\mathbb{R}^n$ and $x^{(i)}$, with $b\\in\\mathbb{R}$, such that\n",
    "$$\n",
    "w=\\begin{bmatrix}w_1\\\\\\vdots\\\\w_j\\end{bmatrix}\\quad x^{(i)}=\\begin{bmatrix}x_1^{(i)}\\\\\\vdots\\\\x_j^{(i)}\\end{bmatrix}\n",
    "$$\n",
    "\n",
    "And the linear regression model can be rewritten as,\n",
    "$$\n",
    "f(x^{(i)})=w^\\top x^{(i)}+b\n",
    "$$\n",
    "\n",
    "## Vectorized Implementation\n",
    "An implementation which is much more computationally efficient can be achieved through *vectorization*, i.e, using the parallel processing capabilities of modern processors (CPU or GPU) to compute linear algebra calculations much faster than through loops.\n",
    "\n",
    "Let $X\\in\\mathbb{R}^{n\\times m}$ be defined as the *design matrix* contaning all values of $x_j^{(i)}$ for all $i\\in[1,\\ldots,m]$ and $j\\in[1,\\ldots,n]$, and let $Y$ be defined as a row vector containing all values of $y^{(i)}$\n",
    "$$\n",
    "    X=\n",
    "    \\begin{bmatrix}\n",
    "        x^{(1)}_1 & \\dots  & x^{(m)}_1 \\\\\n",
    "        \\vdots    & \\ddots & \\vdots    \\\\\n",
    "        x^{(1)}_n & \\dots  & x^{(m)}_n\n",
    "    \\end{bmatrix}\n",
    "    \\qquad\n",
    "    Y=\\begin{bmatrix}y^{(1)}& \\dots &y^{(m)}\\end{bmatrix}\n",
    "$$\n",
    "\n",
    "Given parameters $w\\in\\mathbb{R}^{n}$ and $b\\in\\mathbb{R}$, the vector containing all predicted values $\\hat{Y}$ can be achieved with very little changes from the original equations,\n",
    "$$\n",
    "    \\hat{Y}=w^\\top X+b\n",
    "$$\n",
    "\n",
    "With that said, the variable $b$ does not necessarily need to be a separate variable. Including a *dummy* feature $x^{(i)}_{j+1}=1$ for all $i$, within the design matrix allows for an additional component to $w$ as follows,\n",
    "$$\n",
    "X=\n",
    "    \\begin{bmatrix}\n",
    "        x^{(1)}_1 & \\dots  & x^{(m)}_1 \\\\\n",
    "        \\vdots    & \\ddots & \\vdots    \\\\\n",
    "        x^{(1)}_n & \\dots  & x^{(m)}_n \\\\\n",
    "        1 & \\dots & 1\n",
    "    \\end{bmatrix}\n",
    "    \\qquad\n",
    "    w=\\begin{bmatrix}w_1\\\\\\vdots\\\\w_n\\\\b\\end{bmatrix}\n",
    "$$\n",
    "\n",
    "With this, the calculations for $\\nabla_{w}J(w)$ remain equivalent (see gradient descent), and the equation for $\\hat{Y}$ becomes\n",
    "$$\n",
    "    \\hat{Y}=w^\\top X\n",
    "$$\n",
    "\n",
    "## Gradient Descent\n",
    "Given the cost function $J(w,b)$ which has been previously defined as the *mean squared error*,\n",
    "$$\n",
    "J(w,b)=\\frac{1}{2m}\\sum_{i=1}^{m}\\left(\\hat{y}^{(i)}-y^{(i)}\\right)^2\n",
    "$$\n",
    "The gradient of the cost function w.r.t the weights $w$ is\n",
    "$$\n",
    "\\nabla_{\\vec{w}}J(w,b)=\\begin{bmatrix}\n",
    "    \\frac{\\partial J(w,b)}{\\partial w_1}, & \\dots &, \\frac{\\partial J(w,b)}{\\partial w_j}\n",
    "\\end{bmatrix}^\\top\n",
    "$$\n",
    "\n",
    "The components of this gradient can be calculated as,\n",
    "$$\n",
    "\\begin{align*}\n",
    "    \\frac{\\partial J(w,b)}{\\partial w_j}\n",
    "    &=\\frac{\\partial}{\\partial w_j}\\left[\\frac{1}{2m}\\sum_{i=1}^{m}\\left(\\hat{y}^{(i)}-y^{(i)}\\right)^2\\right]\\\\\n",
    "    &=\\frac{1}{2m}\\cdot\\sum_{i=1}^{m}\\left[\\frac{\\partial}{\\partial w_j}\\left(\\hat{y}^{(i)}-y^{(i)}\\right)^2\\right]\\\\\n",
    "    &=\\frac{1}{2m}\\cdot\\sum_{i=1}^{m}\\left[2\\left(\\hat{y}^{(i)}-y^{(i)}\\right)\\cdot\\frac{\\partial}{\\partial w_j}\\left(w^\\top x^{(i)}+b-y^{(i)}\\right)\\right]\\\\\n",
    "    &=\\frac{1}{2m}\\sum_{i=1}^{m}\\left[2\\left(\\hat{y}^{(i)}-y^{(i)}\\right)\\cdot x^{(i)}_j\\right]\\\\\n",
    "    &=\\frac{1}{m}\\sum_{i=1}^{m}(\\hat{y}^{(i)}-y^{(i)})\\cdot x^{(i)}_j\n",
    "\\end{align*}\n",
    "$$\n",
    "\n",
    "Likewise, $\\frac{\\partial J(w,b)}{b}$ can be calculated as \n",
    "$$\n",
    "\\frac{\\partial J(w,b)}{\\partial b}=\\frac{1}{m}\\sum_{i=1}^{m}\\left(\\hat{y}^{(i)}-y^{(i)}\\right)\n",
    "$$\n",
    "\n",
    "Given the design matrix $X$ and parameters $w$ (with $b$ included), a vectorized implementation of $\\nabla_{w}J(w)$ can be calculated as follows:\n",
    "\n",
    "The residuals $\\hat{Y}-Y$ can be obtained simply by subtracting the two vectors. After which, the vector can be transposed leading to,\n",
    "$$\n",
    "    (\\hat{Y}-Y)^\\top=\\begin{bmatrix}\\hat{y}^{(1)}-y^{(1)}\\\\\\vdots\\\\\\hat{y}^{(m)}-y^{(m)}\\end{bmatrix}\n",
    "$$\n",
    "\n",
    "Recall that the design matrix $X$ is defined as\n",
    "$$\n",
    "X=\n",
    "    \\begin{bmatrix}\n",
    "        x^{(1)}_1 & \\dots  & x^{(m)}_1 \\\\\n",
    "        \\vdots    & \\ddots & \\vdots    \\\\\n",
    "        x^{(1)}_n & \\dots  & x^{(m)}_n \\\\\n",
    "        1 & \\dots & 1\n",
    "    \\end{bmatrix}\n",
    "$$\n",
    "\n",
    "With this, the gradient $\\nabla_{w}J(w)$ can simply be calculated as a matrix-vector product,\n",
    "$$\n",
    "    \\nabla_{w}J(w)=\\frac{X(\\hat{Y}-Y)^\\top}{m}\n",
    "$$\n",
    "\n",
    "To see that this is valid, note that each component, $\\nabla_{w}J(w)_j$ for $j\\in[1,\\ldots,n]$ evaluates to\n",
    "$$\n",
    "\\nabla_{w}J(w)_j=\\frac{1}{m}\\sum_{i=1}^{m}\\left(\\hat{y}^{(i)}-y^{(i)}\\right)\\cdot x^{(i)}_j\n",
    "$$"
   ]
  },
  {
   "cell_type": "markdown",
   "id": "d0052ec1",
   "metadata": {},
   "source": [
    "## Implementation"
   ]
  },
  {
   "cell_type": "code",
   "execution_count": 1,
   "id": "5a2758ca",
   "metadata": {},
   "outputs": [],
   "source": [
    "from sklearn import datasets\n",
    "import numpy as np\n",
    "import matplotlib.pyplot as plt"
   ]
  },
  {
   "cell_type": "markdown",
   "id": "59a877e9",
   "metadata": {},
   "source": [
    "Loading the **diabetes** dataset from sklearn"
   ]
  },
  {
   "cell_type": "code",
   "execution_count": 2,
   "id": "3b664147",
   "metadata": {},
   "outputs": [],
   "source": [
    "diabetes_X, diabetes_Y = datasets.load_diabetes(return_X_y = True)"
   ]
  },
  {
   "cell_type": "code",
   "execution_count": 3,
   "id": "e7a2b21e",
   "metadata": {},
   "outputs": [
    {
     "data": {
      "text/plain": [
       "(442, 10)"
      ]
     },
     "execution_count": 3,
     "metadata": {},
     "output_type": "execute_result"
    }
   ],
   "source": [
    "diabetes_X.shape"
   ]
  },
  {
   "cell_type": "code",
   "execution_count": 4,
   "id": "512a480a",
   "metadata": {},
   "outputs": [
    {
     "data": {
      "text/plain": [
       "(442,)"
      ]
     },
     "execution_count": 4,
     "metadata": {},
     "output_type": "execute_result"
    }
   ],
   "source": [
    "diabetes_Y.shape"
   ]
  },
  {
   "cell_type": "markdown",
   "id": "ee89d4d5",
   "metadata": {},
   "source": [
    "Transforming the datasets into the proper matrixes for $X$ and $Y$"
   ]
  },
  {
   "cell_type": "code",
   "execution_count": 5,
   "id": "818bd053",
   "metadata": {},
   "outputs": [
    {
     "data": {
      "text/plain": [
       "((11, 442), (1, 442))"
      ]
     },
     "execution_count": 5,
     "metadata": {},
     "output_type": "execute_result"
    }
   ],
   "source": [
    "diabetes_X = diabetes_X.T\n",
    "diabetes_X = np.row_stack([diabetes_X, np.full((1, diabetes_X.shape[1]), 1)])\n",
    "diabetes_Y = diabetes_Y[:, np.newaxis].T\n",
    "\n",
    "diabetes_X.shape, diabetes_Y.shape"
   ]
  },
  {
   "cell_type": "markdown",
   "id": "2f61318f",
   "metadata": {},
   "source": [
    "## Feature Scaling\n",
    "\n",
    "To improve the performance of gradient descent, it helps to scale the features such that they are similar or comparable in terms of their ranges. There are multiple ways to perform these transformation: **z-score normalization**, or **mean normalization**\n",
    "\n",
    "For *z-score normalization*, given the mean $\\mu_j$ and standard deviation $\\sigma_j$ for every feature $j\\in[1,\\ldots,n]$, the input feature $x^{(i)}_j$ for $i\\in[1,\\ldots,m]$ is transformed as\n",
    "$$\n",
    "x^{(i)}_j\\leftarrow\\frac{x^{(i)}_j-\\mu_j}{\\sigma_j}\n",
    "$$\n",
    "thus the resulting features now have $\\mu_j=0$ and $\\sigma_j=1$.\n",
    "\n",
    "For *mean normalization*, given the mean $\\mu_j$ and range $x_{j,max}-x_{j,min}$ for every feature $j\\in[1,\\ldots,n]$, the input feature $x^{(i)}_j$ for $i\\in[1,\\ldots,m]$ is transformed as\n",
    "$$\n",
    "x^{(i)}_j\\leftarrow\\frac{x^{(i)}_j-\\mu_j}{x_{j,max}-x_{j,min}}\n",
    "$$"
   ]
  },
  {
   "cell_type": "code",
   "execution_count": 6,
   "id": "3c79b0fd",
   "metadata": {},
   "outputs": [],
   "source": [
    "def calc_optimal_params_grad_descent(train_X, train_Y, num_epochs, learning_rate):    \n",
    "    n, m = train_X.shape\n",
    "    w    = np.random.randn(n, 1)\n",
    "    \n",
    "    loss_hist = np.zeros(num_epochs)\n",
    "    \n",
    "    for i in range(num_epochs):\n",
    "        Y_pred = np.dot(w.T, train_X)\n",
    "        J_cost = np.mean((Y_pred - train_Y) ** 2) / 2.0\n",
    "        loss_hist[i] = J_cost\n",
    "        \n",
    "        # Calculate gradients\n",
    "        grad_W = np.dot(train_X, (Y_pred - train_Y).T) / m\n",
    "        \n",
    "        # Update the weights\n",
    "        w = w - (learning_rate * grad_W)\n",
    "        \n",
    "    return w, loss_hist\n",
    "\n",
    "weights, loss_hist = calc_optimal_params_grad_descent(diabetes_X, diabetes_Y, 10000, 1)"
   ]
  },
  {
   "cell_type": "code",
   "execution_count": 7,
   "id": "1364c133",
   "metadata": {},
   "outputs": [
    {
     "data": {
      "image/png": "[encoded data removed]",
      "text/plain": [
       "<Figure size 432x288 with 1 Axes>"
      ]
     },
     "metadata": {
      "needs_background": "light"
     },
     "output_type": "display_data"
    }
   ],
   "source": [
    "fig = plt.figure()\n",
    "plt.title('Learning curve for gradient descent')\n",
    "plt.xlabel('epochs')\n",
    "plt.ylabel('mean squared error (MSE)')\n",
    "plt.plot(loss_hist)\n",
    "plt.show()"
   ]
  },
  {
   "cell_type": "code",
   "execution_count": 8,
   "id": "d83baaed",
   "metadata": {},
   "outputs": [
    {
     "data": {
      "text/plain": [
       "array([[  -7.0341685 ],\n",
       "       [-236.60114314],\n",
       "       [ 527.60323623],\n",
       "       [ 321.83339165],\n",
       "       [-163.94305623],\n",
       "       [ -26.00582044],\n",
       "       [-174.92850824],\n",
       "       [ 105.19736381],\n",
       "       [ 514.96833878],\n",
       "       [  69.77383282],\n",
       "       [ 152.13348416]])"
      ]
     },
     "execution_count": 8,
     "metadata": {},
     "output_type": "execute_result"
    }
   ],
   "source": [
    "weights"
   ]
  },
  {
   "cell_type": "markdown",
   "id": "be965f0b",
   "metadata": {},
   "source": [
    "## The Normal Equation\n",
    "\n",
    "Aside from gradient descent, there is also a direct or analytical method for calculating parameters $w$ for multiple linear regression. The equation for this is known as the *normal equation*. The normal equation for calculating the optimal parameters $w^*$ is given by,\n",
    "\n",
    "$$\n",
    "w^*=\\left(XX^\\top\\right)^{-1}XY^\\top\n",
    "$$\n",
    "\n",
    "*Proof*:\n",
    "\n",
    "As before, the goal is to find parameters $w\\in\\mathbb{R}^{n\\times 1}$ which minimizes the mean squared error across all training examples $Y\\in\\mathbb{R}^{1\\times m}$ given $X\\in\\mathbb{R}^{n\\times m}$, in a multivariable scenario, this is expressed as $J(w)$,\n",
    "$$\n",
    "\\begin{align*}\n",
    "J(w)\n",
    "&=\\frac{1}{2m}\\left(w^\\top X-Y\\right)^\\top\\left(w^\\top X-Y\\right)\\\\\n",
    "&=\\frac{1}{2m}\\left[\\left(w^\\top X\\right)^\\top-Y^\\top\\right]\\left(w^\\top X-Y\\right)\\\\\n",
    "&=\\frac{1}{2m}\\left[(w^\\top X)(w^\\top X)^\\top-w^\\top XY^\\top -Y(w^\\top X)^\\top +Y^\\top Y\\right]\\\\\n",
    "&=\\frac{1}{2m}\\left[w^\\top XX^\\top w-2Y\\left(w^\\top X\\right)^\\top+Y^\\top Y\\right]\\\\\n",
    "\\end{align*}\n",
    "$$\n",
    "\n",
    "We must then calculate the gradient of the cost w.r.t the weights $w$ as follows\n",
    "\n",
    "$$\n",
    "\\begin{align*}\n",
    "\\frac{\\partial J(w)}{\\partial w}\n",
    "&=\\frac{1}{2m}\\cdot\\frac{\\partial}{\\partial w}\\left[w^\\top XX^\\top w-2Y\\left(w^\\top X\\right)^\\top+Y^\\top Y\\right]\\\\\n",
    "\\end{align*}\n",
    "$$\n",
    "\n",
    "We shall derive each term separately for simplification. Starting with the third term.\n",
    "\n",
    "$$\n",
    "\\frac{\\partial}{\\partial w}Y^\\top Y=0\n",
    "$$\n",
    "\n",
    "For the second term, recall the structure of both vectors,\n",
    "$$\n",
    "Y=\\begin{bmatrix}y^{(1)} & \\dots & y^{(m)}\\end{bmatrix}\n",
    "\\quad\n",
    "\\text{and}\n",
    "\\quad\n",
    "\\left(w^\\top X\\right)^\\top=\\begin{bmatrix}\n",
    "    w_1x^{(1)}_1+\\ldots+w_nx^{(1)}_n \\\\\n",
    "    \\vdots \\\\\n",
    "    w_1x^{(m)}_1+\\ldots+w_nx^{(m)}_n\n",
    "\\end{bmatrix}\n",
    "$$\n",
    "\n",
    "Therefore, the dot product is\n",
    "$$\n",
    "Y\\left(w^\\top X\\right)^\\top\n",
    "=y^{(1)}\\left(w_1x^{(1)}_1+\\ldots+w_nx^{(1)}_n\\right)+\\ldots+y^{(m)}\\left(w_1x^{(m)}_1+\\ldots+w_nx^{(m)}_n\\right)\n",
    "$$\n",
    "\n",
    "Thus the partial derivative w.r.t a weight $w_j$ would be defined as\n",
    "$$\n",
    "\\frac{\\partial }{w_j}Y\\left(w^\\top X\\right)^\\top=\\sum_{i=1}^{m}y^{(i)}x^{(i)}_{j}\n",
    "$$\n",
    "\n",
    "This can be expressed as a matrix vector multiplication\n",
    "$$\n",
    "\\frac{\\partial }{w_j}2Y\\left(w^\\top X\\right)^\\top=2XY^\\top\n",
    "$$\n",
    "\n",
    "To see that this is valid, note that each element in this vector result is,\n",
    "$$\n",
    "(XY^\\top)_{j}=\\sum_{i=1}^{m}y^{(i)}x^{(i)}_j\n",
    "$$\n",
    "\n",
    "To simplify the calculation of the first term, note that by the associativity of matrix multiplication, we can multiply $XX^\\top\\in\\mathbb{R}^{n\\times n}$ to obtain a square and symmetric matrix, further denoted as $A$ where\n",
    "$$\n",
    "A_{j,k}=\\left(XX^\\top\\right)_{j,k}=\\sum_{i=1}^{m}X_{j,i}X^\\top_{i,k}\n",
    "$$\n",
    "\n",
    "Note that $XX^\\top w$ becomes\n",
    "$$\n",
    "XX^\\top w=Aw=\\begin{bmatrix}\n",
    "    w_1A_{1,1}+\\ldots+w_nA_{1,n} \\\\\n",
    "    \\vdots \\\\\n",
    "    w_1A_{n,1}+\\ldots+w_nA_{n,n} \\\\\n",
    "\\end{bmatrix}\n",
    "$$\n",
    "\n",
    "Thus the full product, $w^\\top XX^\\top w$, becomes\n",
    "$$\n",
    "w^\\top XX^\\top w=w^\\top Aw=w_1\\left(w_1A_{1,1}+\\ldots+w_nA_{1,n}\\right)+\\dots+w_n\\left(w_1A_{n,1}+\\ldots+w_nA_{n,n}\\right)\n",
    "$$\n",
    "\n",
    "Calculating the partial derivative w.r.t a weight $w_1$ for example becomes the following, note that $A$ is symmetric, therefore an element such as $A_{2,1}=A_{1,2}$\n",
    "$$\n",
    "\\begin{align*}\n",
    "\\frac{\\partial w^\\top Aw}{w_1}\n",
    "&=2w_1A_{1,1}+2w_2A_{1,2}+\\ldots+2w_nA_{1,n}\\\\\n",
    "&=2\\left(w_1A_{1,1}+w_2A_{1,2}+\\ldots+w_nA_{1,n}\\right)\n",
    "\\end{align*}\n",
    "$$\n",
    "\n",
    "The same holds for the partial derivative with respect to other weights $w_j$. This can therefore be expressed as the following matrix vector multiplication\n",
    "$$\n",
    "\\frac{\\partial}{\\partial w}w^\\top XX^\\top w=2XX^\\top w\n",
    "$$\n",
    "\n",
    "The full equation becomes the following\n",
    "$$\n",
    "\\begin{align*}\n",
    "\\nabla J(w)\n",
    "&=\\frac{1}{2m}\\left(2XX^\\top w-2XY^\\top\\right)\\\\\n",
    "&=\\frac{1}{m}\\left(XX^\\top w-XY^\\top\\right)\\\\\n",
    "\\end{align*}\n",
    "$$\n",
    "\n",
    "Setting this equation to $0$ and solving for $w$ becomes\n",
    "$$\n",
    "\\begin{align*}\n",
    "    \\frac{1}{m}\\left(XX^\\top w-XY^\\top\\right)&=0\\\\\n",
    "    XX^\\top w-XY^\\top&=0\\\\\n",
    "    XX^\\top w&=XY^\\top\\\\\n",
    "    w&=\\left(XX^\\top\\right)^{-1}XY^\\top\n",
    "\\end{align*}\n",
    "$$"
   ]
  },
  {
   "cell_type": "code",
   "execution_count": 9,
   "id": "c8d18373",
   "metadata": {},
   "outputs": [
    {
     "data": {
      "text/plain": [
       "((11, 442), (1, 442))"
      ]
     },
     "execution_count": 9,
     "metadata": {},
     "output_type": "execute_result"
    }
   ],
   "source": [
    "X = diabetes_X\n",
    "Y = diabetes_Y\n",
    "X.shape, Y.shape"
   ]
  },
  {
   "cell_type": "code",
   "execution_count": 10,
   "id": "9b430cc8",
   "metadata": {},
   "outputs": [],
   "source": [
    "w_ne = np.dot(np.linalg.inv(np.dot(X, X.T)), np.dot(X, Y.T))"
   ]
  },
  {
   "cell_type": "code",
   "execution_count": 11,
   "id": "806ce693",
   "metadata": {},
   "outputs": [
    {
     "name": "stdout",
     "output_type": "stream",
     "text": [
      "Mean squared errors:\n",
      "Normal equation : 2859.69\n",
      "Gradient descent: 2874.91\n"
     ]
    }
   ],
   "source": [
    "mse_ne = np.mean((np.dot(w_ne.T, X) - Y) ** 2)\n",
    "mse_gd = np.mean((np.dot(weights.T, X) - Y) ** 2)\n",
    "\n",
    "print('Mean squared errors:')\n",
    "print('Normal equation : {:.2f}'.format(mse_ne))\n",
    "print('Gradient descent: {:.2f}'.format(mse_gd))"
   ]
  },
  {
   "cell_type": "code",
   "execution_count": 12,
   "id": "cf726be1",
   "metadata": {},
   "outputs": [
    {
     "data": {
      "text/plain": [
       "(array([[ -10.01219782],\n",
       "        [-239.81908937],\n",
       "        [ 519.83978679],\n",
       "        [ 324.39042769],\n",
       "        [-792.18416163],\n",
       "        [ 476.74583782],\n",
       "        [ 101.04457032],\n",
       "        [ 177.06417623],\n",
       "        [ 751.27932109],\n",
       "        [  67.62538639],\n",
       "        [ 152.13348416]]),\n",
       " array([[  -7.0341685 ],\n",
       "        [-236.60114314],\n",
       "        [ 527.60323623],\n",
       "        [ 321.83339165],\n",
       "        [-163.94305623],\n",
       "        [ -26.00582044],\n",
       "        [-174.92850824],\n",
       "        [ 105.19736381],\n",
       "        [ 514.96833878],\n",
       "        [  69.77383282],\n",
       "        [ 152.13348416]]))"
      ]
     },
     "execution_count": 12,
     "metadata": {},
     "output_type": "execute_result"
    }
   ],
   "source": [
    "w_ne, weights"
   ]
  }
 ],
 "metadata": {
  "kernelspec": {
   "display_name": "Python 3 (ipykernel)",
   "language": "python",
   "name": "python3"
  },
  "language_info": {
   "codemirror_mode": {
    "name": "ipython",
    "version": 3
   },
   "file_extension": ".py",
   "mimetype": "text/x-python",
   "name": "python",
   "nbconvert_exporter": "python",
   "pygments_lexer": "ipython3",
   "version": "3.9.7"
  }
 },
 "nbformat": 4,
 "nbformat_minor": 5
}
